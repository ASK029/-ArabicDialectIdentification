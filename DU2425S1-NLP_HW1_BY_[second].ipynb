{
 "cells": [
  {
   "cell_type": "markdown",
   "metadata": {
    "id": "46f519c8"
   },
   "source": [
    "#[Your_name]"
   ]
  },
  {
   "cell_type": "markdown",
   "metadata": {
    "id": "n_nK61CF1tq-"
   },
   "source": [
    "<h1 style=\"text-align: center;\">Arabic Dialect Identification<h1>"
   ]
  },
  {
   "cell_type": "markdown",
   "metadata": {
    "id": "e7efe140"
   },
   "source": [
    "Prepare libraries"
   ]
  },
  {
   "cell_type": "code",
   "execution_count": 1,
   "metadata": {
    "id": "af6058ed"
   },
   "outputs": [],
   "source": [
    "# here put every import you need e.g. import nltk\n",
    "# it's better to load what you need from the package by from [] import [] instead of import the whole package\n",
    "import pandas as pd\n",
    "import pathlib"
   ]
  },
  {
   "cell_type": "markdown",
   "metadata": {
    "id": "229df102"
   },
   "source": [
    "Load data"
   ]
  },
  {
   "cell_type": "code",
   "execution_count": 15,
   "metadata": {
    "id": "UwWEGnSRro5t"
   },
   "outputs": [],
   "source": [
    "\n",
    "# Load the unification DataFrame\n",
    "dnu_df = pd.read_excel(\"dialect_name_unification.xlsx\", sheet_name=\"Sheet1\", header=[0, 1])\n",
    "\n",
    "# Set up the root directory for MADAR data\n",
    "madar_rootdir = pathlib.Path(r'MADAR/MADAR_Corpus')\n",
    "\n",
    "# Read all TSV files from the MADAR directory and combine them into one DataFrame\n",
    "madar_data = [pd.read_csv(file, sep='\\t') for file in madar_rootdir.glob('*.tsv')]\n",
    "madar_df = pd.concat(madar_data)\n",
    "\n",
    "# Load QADI datasets and add split column\n",
    "qadi_filepaths = {\n",
    "    'train': \"QADI/data/train-00000-of-00001.parquet\",\n",
    "    'test': \"QADI/data/test-00000-of-00001.parquet\",\n",
    "    'validation': \"QADI/data/validation-00000-of-00001.parquet\"\n",
    "}\n",
    "\n",
    "qadi_dfs = {\n",
    "    split: pd.read_parquet(filepath, engine=\"pyarrow\").assign(split=f'{split}')\n",
    "    for split, filepath in qadi_filepaths.items()\n",
    "}\n",
    "\n",
    "qadi_df = pd.concat(qadi_dfs.values())"
   ]
  },
  {
   "cell_type": "markdown",
   "metadata": {
    "id": "QXo2Rii_1trh"
   },
   "source": [
    "<h2 dir=\"rtl\">مثال عن كيفية تنظيم حلول الطلبات:\n",
    "\n",
    "قم بوضع الخلايا الأربع التالية لحل كل طلب</h2>"
   ]
  },
  {
   "cell_type": "markdown",
   "metadata": {
    "id": "8E7xa9XLPW8t"
   },
   "source": [
    "\n",
    "<div dir=\"rtl\">شرح ما يقوم به الكود (like code documentation)<div>"
   ]
  },
  {
   "cell_type": "code",
   "execution_count": null,
   "metadata": {
    "id": "d41a9612"
   },
   "outputs": [],
   "source": [
    "# your code here\n"
   ]
  },
  {
   "cell_type": "code",
   "execution_count": null,
   "metadata": {
    "id": "aNNrMjaaQanf"
   },
   "outputs": [],
   "source": [
    "# example test"
   ]
  },
  {
   "cell_type": "markdown",
   "metadata": {
    "id": "d9NfyVxZQXF7"
   },
   "source": [
    "<div dir=\"rtl\">ملاحظاتك في حال وجودها</div>\n",
    "<div dir=\"rtl\">يمكنك إضافة خلايا لكل طلب بقدر ما تشاء، المهم أن تحافظ على تنظيم الملف</div>"
   ]
  },
  {
   "cell_type": "markdown",
   "metadata": {
    "id": "3400638b"
   },
   "source": [
    "# مهمة 01  : تحميل البيانات"
   ]
  },
  {
   "cell_type": "markdown",
   "metadata": {
    "id": "GA9IUbt71tvs"
   },
   "source": [
    "## [1.1]"
   ]
  },
  {
   "cell_type": "code",
   "execution_count": 9,
   "metadata": {
    "id": "-1-g4NtB1tvt"
   },
   "outputs": [
    {
     "name": "stdout",
     "output_type": "stream",
     "text": [
      "the length of madar data: 136000\n"
     ]
    },
    {
     "data": {
      "text/html": [
       "<div>\n",
       "<style scoped>\n",
       "    .dataframe tbody tr th:only-of-type {\n",
       "        vertical-align: middle;\n",
       "    }\n",
       "\n",
       "    .dataframe tbody tr th {\n",
       "        vertical-align: top;\n",
       "    }\n",
       "\n",
       "    .dataframe thead th {\n",
       "        text-align: right;\n",
       "    }\n",
       "</style>\n",
       "<table border=\"1\" class=\"dataframe\">\n",
       "  <thead>\n",
       "    <tr style=\"text-align: right;\">\n",
       "      <th></th>\n",
       "      <th>sentID.BTEC</th>\n",
       "      <th>split</th>\n",
       "      <th>lang</th>\n",
       "      <th>sent</th>\n",
       "    </tr>\n",
       "  </thead>\n",
       "  <tbody>\n",
       "    <tr>\n",
       "      <th>0</th>\n",
       "      <td>5</td>\n",
       "      <td>train</td>\n",
       "      <td>ALE</td>\n",
       "      <td>هو هنيك، قدام معلومات السياح بالضبط.</td>\n",
       "    </tr>\n",
       "    <tr>\n",
       "      <th>1</th>\n",
       "      <td>9</td>\n",
       "      <td>train</td>\n",
       "      <td>ALE</td>\n",
       "      <td>مالي سمعان من قبل بهالعنوان هون.</td>\n",
       "    </tr>\n",
       "    <tr>\n",
       "      <th>2</th>\n",
       "      <td>11</td>\n",
       "      <td>train</td>\n",
       "      <td>ALE</td>\n",
       "      <td>روح ساوي لبين ما تشوف صيدلية.</td>\n",
       "    </tr>\n",
       "    <tr>\n",
       "      <th>3</th>\n",
       "      <td>26</td>\n",
       "      <td>train</td>\n",
       "      <td>ALE</td>\n",
       "      <td>بشقد الفطور؟</td>\n",
       "    </tr>\n",
       "    <tr>\n",
       "      <th>4</th>\n",
       "      <td>27</td>\n",
       "      <td>train</td>\n",
       "      <td>ALE</td>\n",
       "      <td>شلون بقدر أساعدك؟</td>\n",
       "    </tr>\n",
       "    <tr>\n",
       "      <th>5</th>\n",
       "      <td>30</td>\n",
       "      <td>train</td>\n",
       "      <td>ALE</td>\n",
       "      <td>روح عاليسار عند تالت مفرق.</td>\n",
       "    </tr>\n",
       "    <tr>\n",
       "      <th>6</th>\n",
       "      <td>50</td>\n",
       "      <td>train</td>\n",
       "      <td>ALE</td>\n",
       "      <td>بتريد كريمة وسكر بقهوتك؟</td>\n",
       "    </tr>\n",
       "    <tr>\n",
       "      <th>7</th>\n",
       "      <td>64</td>\n",
       "      <td>train</td>\n",
       "      <td>ALE</td>\n",
       "      <td>خرج تصرفلي شيك الميتين دولار تبعي؟</td>\n",
       "    </tr>\n",
       "    <tr>\n",
       "      <th>8</th>\n",
       "      <td>74</td>\n",
       "      <td>train</td>\n",
       "      <td>ALE</td>\n",
       "      <td>إذا لازم يبين، اتصل فيني إذا سمحت.</td>\n",
       "    </tr>\n",
       "    <tr>\n",
       "      <th>9</th>\n",
       "      <td>86</td>\n",
       "      <td>train</td>\n",
       "      <td>ALE</td>\n",
       "      <td>وين الكافيه؟</td>\n",
       "    </tr>\n",
       "  </tbody>\n",
       "</table>\n",
       "</div>"
      ],
      "text/plain": [
       "   sentID.BTEC  split lang                                  sent\n",
       "0            5  train  ALE  هو هنيك، قدام معلومات السياح بالضبط.\n",
       "1            9  train  ALE      مالي سمعان من قبل بهالعنوان هون.\n",
       "2           11  train  ALE         روح ساوي لبين ما تشوف صيدلية.\n",
       "3           26  train  ALE                          بشقد الفطور؟\n",
       "4           27  train  ALE                     شلون بقدر أساعدك؟\n",
       "5           30  train  ALE            روح عاليسار عند تالت مفرق.\n",
       "6           50  train  ALE              بتريد كريمة وسكر بقهوتك؟\n",
       "7           64  train  ALE    خرج تصرفلي شيك الميتين دولار تبعي؟\n",
       "8           74  train  ALE    إذا لازم يبين، اتصل فيني إذا سمحت.\n",
       "9           86  train  ALE                          وين الكافيه؟"
      ]
     },
     "execution_count": 9,
     "metadata": {},
     "output_type": "execute_result"
    }
   ],
   "source": [
    "# Create a mapping for replacement\n",
    "split_mapping = {\n",
    "    'corpus-6-train': 'train',\n",
    "    'corpus-6-test-corpus-26-train': 'train',\n",
    "    'corpus-6-dev': 'validation',\n",
    "    'corpus-6-test-corpus-26-dev': 'validation',\n",
    "    'corpus-6-test-corpus-26-test': 'test'\n",
    "}\n",
    "\n",
    "# Replace the 'split' values using the mapping\n",
    "madar_df['split'] = madar_df['split'].replace(split_mapping)\n",
    "\n",
    "# MADAR dataframe\n",
    "print(f\"the length of madar data: {len(madar_df)}\")\n",
    "madar_df.head(10)"
   ]
  },
  {
   "cell_type": "code",
   "execution_count": 8,
   "metadata": {},
   "outputs": [
    {
     "name": "stdout",
     "output_type": "stream",
     "text": [
      "the length of qadi data: 458197\n"
     ]
    },
    {
     "data": {
      "text/html": [
       "<div>\n",
       "<style scoped>\n",
       "    .dataframe tbody tr th:only-of-type {\n",
       "        vertical-align: middle;\n",
       "    }\n",
       "\n",
       "    .dataframe tbody tr th {\n",
       "        vertical-align: top;\n",
       "    }\n",
       "\n",
       "    .dataframe thead th {\n",
       "        text-align: right;\n",
       "    }\n",
       "</style>\n",
       "<table border=\"1\" class=\"dataframe\">\n",
       "  <thead>\n",
       "    <tr style=\"text-align: right;\">\n",
       "      <th></th>\n",
       "      <th>id</th>\n",
       "      <th>label</th>\n",
       "      <th>text</th>\n",
       "      <th>split</th>\n",
       "    </tr>\n",
       "  </thead>\n",
       "  <tbody>\n",
       "    <tr>\n",
       "      <th>0</th>\n",
       "      <td>1046024946705735552</td>\n",
       "      <td>9</td>\n",
       "      <td>@Ahmed_Hamza27 اتمنى صراحة و خصوصا #طال_عمره ب...</td>\n",
       "      <td>corpus-6-train</td>\n",
       "    </tr>\n",
       "    <tr>\n",
       "      <th>1</th>\n",
       "      <td>1140189387508134016</td>\n",
       "      <td>17</td>\n",
       "      <td>@rJiM4CnIFTgml9g @zamnissi طبعا عرفته من اللي ...</td>\n",
       "      <td>corpus-6-train</td>\n",
       "    </tr>\n",
       "    <tr>\n",
       "      <th>2</th>\n",
       "      <td>1051416181855440768</td>\n",
       "      <td>0</td>\n",
       "      <td>@OmanisFollowers @ooredoo @TRA_OMAN @motc_om ه...</td>\n",
       "      <td>corpus-6-train</td>\n",
       "    </tr>\n",
       "    <tr>\n",
       "      <th>3</th>\n",
       "      <td>781770259422412800</td>\n",
       "      <td>11</td>\n",
       "      <td>كلب شو كنتوا بتتوقعوا منه !؟ \\n\\nمحمود عباس لا...</td>\n",
       "      <td>corpus-6-train</td>\n",
       "    </tr>\n",
       "    <tr>\n",
       "      <th>4</th>\n",
       "      <td>968140551366340608</td>\n",
       "      <td>11</td>\n",
       "      <td>#عزام 🔊\\nاحنا ابو الولد وام الولد</td>\n",
       "      <td>corpus-6-train</td>\n",
       "    </tr>\n",
       "    <tr>\n",
       "      <th>5</th>\n",
       "      <td>1129830890069270400</td>\n",
       "      <td>2</td>\n",
       "      <td>@HussamAAlsaleh1 الله يبشرررررك بالجنة يابو سع...</td>\n",
       "      <td>corpus-6-train</td>\n",
       "    </tr>\n",
       "    <tr>\n",
       "      <th>6</th>\n",
       "      <td>1055146289791258624</td>\n",
       "      <td>4</td>\n",
       "      <td>@Ocxoc @AlArabiya_Brk والله العظيم انه مجرد تق...</td>\n",
       "      <td>corpus-6-train</td>\n",
       "    </tr>\n",
       "    <tr>\n",
       "      <th>7</th>\n",
       "      <td>1040998864327794816</td>\n",
       "      <td>17</td>\n",
       "      <td>@anasyounis52 اها مستوى أقل شوية هههههههه</td>\n",
       "      <td>corpus-6-train</td>\n",
       "    </tr>\n",
       "    <tr>\n",
       "      <th>8</th>\n",
       "      <td>966103834618744832</td>\n",
       "      <td>10</td>\n",
       "      <td>قلبي مقبوض ، بقالي كام يوم مش متظبط و اتمني ان...</td>\n",
       "      <td>corpus-6-train</td>\n",
       "    </tr>\n",
       "    <tr>\n",
       "      <th>9</th>\n",
       "      <td>1126962565261811584</td>\n",
       "      <td>2</td>\n",
       "      <td>@ryanovic_nfc خوينا ذا 😒 مانخلي اخويانا</td>\n",
       "      <td>corpus-6-train</td>\n",
       "    </tr>\n",
       "  </tbody>\n",
       "</table>\n",
       "</div>"
      ],
      "text/plain": [
       "                    id  label  \\\n",
       "0  1046024946705735552      9   \n",
       "1  1140189387508134016     17   \n",
       "2  1051416181855440768      0   \n",
       "3   781770259422412800     11   \n",
       "4   968140551366340608     11   \n",
       "5  1129830890069270400      2   \n",
       "6  1055146289791258624      4   \n",
       "7  1040998864327794816     17   \n",
       "8   966103834618744832     10   \n",
       "9  1126962565261811584      2   \n",
       "\n",
       "                                                text           split  \n",
       "0  @Ahmed_Hamza27 اتمنى صراحة و خصوصا #طال_عمره ب...  corpus-6-train  \n",
       "1  @rJiM4CnIFTgml9g @zamnissi طبعا عرفته من اللي ...  corpus-6-train  \n",
       "2  @OmanisFollowers @ooredoo @TRA_OMAN @motc_om ه...  corpus-6-train  \n",
       "3  كلب شو كنتوا بتتوقعوا منه !؟ \\n\\nمحمود عباس لا...  corpus-6-train  \n",
       "4                  #عزام 🔊\\nاحنا ابو الولد وام الولد  corpus-6-train  \n",
       "5  @HussamAAlsaleh1 الله يبشرررررك بالجنة يابو سع...  corpus-6-train  \n",
       "6  @Ocxoc @AlArabiya_Brk والله العظيم انه مجرد تق...  corpus-6-train  \n",
       "7          @anasyounis52 اها مستوى أقل شوية هههههههه  corpus-6-train  \n",
       "8  قلبي مقبوض ، بقالي كام يوم مش متظبط و اتمني ان...  corpus-6-train  \n",
       "9            @ryanovic_nfc خوينا ذا 😒 مانخلي اخويانا  corpus-6-train  "
      ]
     },
     "execution_count": 8,
     "metadata": {},
     "output_type": "execute_result"
    }
   ],
   "source": [
    "## QADI dataframe\n",
    "print(f\"the length of qadi data: {len(qadi_df)}\")\n",
    "qadi_df.head(10)"
   ]
  },
  {
   "cell_type": "code",
   "execution_count": 10,
   "metadata": {},
   "outputs": [
    {
     "name": "stdout",
     "output_type": "stream",
     "text": [
      "madar NAN values: \n",
      "sentID.BTEC        0\n",
      "split              0\n",
      "lang               0\n",
      "sent           24000\n",
      "dtype: int64 \n",
      "madar duplicated values: \n",
      "0\n"
     ]
    }
   ],
   "source": [
    "print(f\"madar NAN values: \\n{madar_df.isna().sum()}\", f\"\\nmadar duplicated values: \\n{madar_df.duplicated().sum()}\")"
   ]
  },
  {
   "cell_type": "code",
   "execution_count": 11,
   "metadata": {},
   "outputs": [
    {
     "name": "stdout",
     "output_type": "stream",
     "text": [
      "qadi NaN values:\n",
      "id       0\n",
      "label    0\n",
      "text     0\n",
      "split    0\n",
      "dtype: int64 \n",
      "qadi duplicated values:0\n"
     ]
    }
   ],
   "source": [
    "print(f\"qadi NaN values:\\n{qadi_df.isna().sum()}\", f\"\\nqadi duplicated values:{qadi_df.duplicated().sum()}\")"
   ]
  },
  {
   "cell_type": "markdown",
   "metadata": {
    "id": "gDDQUWtr1tvu"
   },
   "source": [
    "## [1.2]"
   ]
  },
  {
   "cell_type": "code",
   "execution_count": 14,
   "metadata": {
    "id": "ICrvRCc8ucDZ"
   },
   "outputs": [
    {
     "data": {
      "text/html": [
       "<div>\n",
       "<style scoped>\n",
       "    .dataframe tbody tr th:only-of-type {\n",
       "        vertical-align: middle;\n",
       "    }\n",
       "\n",
       "    .dataframe tbody tr th {\n",
       "        vertical-align: top;\n",
       "    }\n",
       "\n",
       "    .dataframe thead th {\n",
       "        text-align: right;\n",
       "    }\n",
       "</style>\n",
       "<table border=\"1\" class=\"dataframe\">\n",
       "  <thead>\n",
       "    <tr style=\"text-align: right;\">\n",
       "      <th></th>\n",
       "      <th>sentID.BTEC</th>\n",
       "      <th>split</th>\n",
       "      <th>lang</th>\n",
       "      <th>sent</th>\n",
       "      <th>city</th>\n",
       "      <th>country</th>\n",
       "      <th>region</th>\n",
       "    </tr>\n",
       "  </thead>\n",
       "  <tbody>\n",
       "    <tr>\n",
       "      <th>0</th>\n",
       "      <td>5</td>\n",
       "      <td>corpus-6-test-corpus-26-train</td>\n",
       "      <td>ALE</td>\n",
       "      <td>هو هنيك، قدام معلومات السياح بالضبط.</td>\n",
       "      <td>Aleppo</td>\n",
       "      <td>Syria</td>\n",
       "      <td>Levant</td>\n",
       "    </tr>\n",
       "    <tr>\n",
       "      <th>1</th>\n",
       "      <td>9</td>\n",
       "      <td>corpus-6-test-corpus-26-train</td>\n",
       "      <td>ALE</td>\n",
       "      <td>مالي سمعان من قبل بهالعنوان هون.</td>\n",
       "      <td>Aleppo</td>\n",
       "      <td>Syria</td>\n",
       "      <td>Levant</td>\n",
       "    </tr>\n",
       "    <tr>\n",
       "      <th>2</th>\n",
       "      <td>11</td>\n",
       "      <td>corpus-6-test-corpus-26-train</td>\n",
       "      <td>ALE</td>\n",
       "      <td>روح ساوي لبين ما تشوف صيدلية.</td>\n",
       "      <td>Aleppo</td>\n",
       "      <td>Syria</td>\n",
       "      <td>Levant</td>\n",
       "    </tr>\n",
       "    <tr>\n",
       "      <th>3</th>\n",
       "      <td>26</td>\n",
       "      <td>corpus-6-test-corpus-26-train</td>\n",
       "      <td>ALE</td>\n",
       "      <td>بشقد الفطور؟</td>\n",
       "      <td>Aleppo</td>\n",
       "      <td>Syria</td>\n",
       "      <td>Levant</td>\n",
       "    </tr>\n",
       "    <tr>\n",
       "      <th>4</th>\n",
       "      <td>27</td>\n",
       "      <td>corpus-6-test-corpus-26-train</td>\n",
       "      <td>ALE</td>\n",
       "      <td>شلون بقدر أساعدك؟</td>\n",
       "      <td>Aleppo</td>\n",
       "      <td>Syria</td>\n",
       "      <td>Levant</td>\n",
       "    </tr>\n",
       "  </tbody>\n",
       "</table>\n",
       "</div>"
      ],
      "text/plain": [
       "   sentID.BTEC                          split lang  \\\n",
       "0            5  corpus-6-test-corpus-26-train  ALE   \n",
       "1            9  corpus-6-test-corpus-26-train  ALE   \n",
       "2           11  corpus-6-test-corpus-26-train  ALE   \n",
       "3           26  corpus-6-test-corpus-26-train  ALE   \n",
       "4           27  corpus-6-test-corpus-26-train  ALE   \n",
       "\n",
       "                                   sent    city country  region  \n",
       "0  هو هنيك، قدام معلومات السياح بالضبط.  Aleppo   Syria  Levant  \n",
       "1      مالي سمعان من قبل بهالعنوان هون.  Aleppo   Syria  Levant  \n",
       "2         روح ساوي لبين ما تشوف صيدلية.  Aleppo   Syria  Levant  \n",
       "3                          بشقد الفطور؟  Aleppo   Syria  Levant  \n",
       "4                     شلون بقدر أساعدك؟  Aleppo   Syria  Levant  "
      ]
     },
     "execution_count": 14,
     "metadata": {},
     "output_type": "execute_result"
    }
   ],
   "source": [
    "# Create mapping dictionaries from unification_df\n",
    "columns_to_map = {\n",
    "    'city': ('City', 'English name'),\n",
    "    'country': ('Country', 'English name'),\n",
    "    'region': ('Region', 'English name')\n",
    "}\n",
    "\n",
    "for col, (level1, level2) in columns_to_map.items():\n",
    "    mapping = dict(zip(dnu_df[('City', 'Abbriviation')], dnu_df[(level1, level2)]))\n",
    "    madar_df[col] = madar_df['lang'].map(mapping)\n",
    "\n",
    "# Display the first few rows of the MADAR dataframe\n",
    "madar_df.head()"
   ]
  },
  {
   "cell_type": "markdown",
   "metadata": {
    "id": "rY4IkAEPuceD"
   },
   "source": [
    "## [1.3]"
   ]
  },
  {
   "cell_type": "code",
   "execution_count": 16,
   "metadata": {
    "id": "qhXVRQJF1tvv"
   },
   "outputs": [
    {
     "data": {
      "text/html": [
       "<div>\n",
       "<style scoped>\n",
       "    .dataframe tbody tr th:only-of-type {\n",
       "        vertical-align: middle;\n",
       "    }\n",
       "\n",
       "    .dataframe tbody tr th {\n",
       "        vertical-align: top;\n",
       "    }\n",
       "\n",
       "    .dataframe thead th {\n",
       "        text-align: right;\n",
       "    }\n",
       "</style>\n",
       "<table border=\"1\" class=\"dataframe\">\n",
       "  <thead>\n",
       "    <tr style=\"text-align: right;\">\n",
       "      <th></th>\n",
       "      <th>id</th>\n",
       "      <th>split</th>\n",
       "      <th>lang</th>\n",
       "      <th>sent</th>\n",
       "    </tr>\n",
       "  </thead>\n",
       "  <tbody>\n",
       "    <tr>\n",
       "      <th>0</th>\n",
       "      <td>5</td>\n",
       "      <td>corpus-6-test-corpus-26-train</td>\n",
       "      <td>ALE</td>\n",
       "      <td>هو هنيك، قدام معلومات السياح بالضبط.</td>\n",
       "    </tr>\n",
       "    <tr>\n",
       "      <th>1</th>\n",
       "      <td>9</td>\n",
       "      <td>corpus-6-test-corpus-26-train</td>\n",
       "      <td>ALE</td>\n",
       "      <td>مالي سمعان من قبل بهالعنوان هون.</td>\n",
       "    </tr>\n",
       "    <tr>\n",
       "      <th>2</th>\n",
       "      <td>11</td>\n",
       "      <td>corpus-6-test-corpus-26-train</td>\n",
       "      <td>ALE</td>\n",
       "      <td>روح ساوي لبين ما تشوف صيدلية.</td>\n",
       "    </tr>\n",
       "    <tr>\n",
       "      <th>3</th>\n",
       "      <td>26</td>\n",
       "      <td>corpus-6-test-corpus-26-train</td>\n",
       "      <td>ALE</td>\n",
       "      <td>بشقد الفطور؟</td>\n",
       "    </tr>\n",
       "    <tr>\n",
       "      <th>4</th>\n",
       "      <td>27</td>\n",
       "      <td>corpus-6-test-corpus-26-train</td>\n",
       "      <td>ALE</td>\n",
       "      <td>شلون بقدر أساعدك؟</td>\n",
       "    </tr>\n",
       "  </tbody>\n",
       "</table>\n",
       "</div>"
      ],
      "text/plain": [
       "   id                          split lang  \\\n",
       "0   5  corpus-6-test-corpus-26-train  ALE   \n",
       "1   9  corpus-6-test-corpus-26-train  ALE   \n",
       "2  11  corpus-6-test-corpus-26-train  ALE   \n",
       "3  26  corpus-6-test-corpus-26-train  ALE   \n",
       "4  27  corpus-6-test-corpus-26-train  ALE   \n",
       "\n",
       "                                   sent  \n",
       "0  هو هنيك، قدام معلومات السياح بالضبط.  \n",
       "1      مالي سمعان من قبل بهالعنوان هون.  \n",
       "2         روح ساوي لبين ما تشوف صيدلية.  \n",
       "3                          بشقد الفطور؟  \n",
       "4                     شلون بقدر أساعدك؟  "
      ]
     },
     "execution_count": 16,
     "metadata": {},
     "output_type": "execute_result"
    }
   ],
   "source": [
    "madar_df = madar_df.rename(columns={\"sentID.BTEC\": 'id'})\n",
    "qadi_df = qadi_df.rename(columns={'text': 'sent'})\n",
    "qadi_df = qadi_df.reindex(columns=madar_df.columns)\n",
    "\n",
    "data = pd.concat([madar_df, qadi_df])\n",
    "data.head()"
   ]
  },
  {
   "cell_type": "markdown",
   "metadata": {
    "id": "2f22713d"
   },
   "source": [
    "# مهمة 02 : فهم وتحليل البيانات\n",
    "\n",
    "EDA"
   ]
  },
  {
   "cell_type": "markdown",
   "metadata": {
    "id": "03ef90d1"
   },
   "source": [
    "## [2.1]\n"
   ]
  },
  {
   "cell_type": "code",
   "execution_count": null,
   "metadata": {
    "id": "c1b8c64b"
   },
   "outputs": [],
   "source": []
  },
  {
   "cell_type": "markdown",
   "metadata": {
    "id": "24164796"
   },
   "source": [
    "## [2.2]"
   ]
  },
  {
   "cell_type": "code",
   "execution_count": null,
   "metadata": {
    "id": "SexYXq1-P0Y0"
   },
   "outputs": [],
   "source": []
  },
  {
   "cell_type": "markdown",
   "metadata": {
    "id": "KFerFDFqPwPI"
   },
   "source": [
    "## [2.3]"
   ]
  },
  {
   "cell_type": "code",
   "execution_count": null,
   "metadata": {
    "id": "zU65GmMbP2Sm"
   },
   "outputs": [],
   "source": []
  },
  {
   "cell_type": "markdown",
   "metadata": {
    "id": "-4LEgCtvPwaQ"
   },
   "source": [
    "## [2.4]"
   ]
  },
  {
   "cell_type": "code",
   "execution_count": null,
   "metadata": {
    "id": "d81d9f99"
   },
   "outputs": [],
   "source": []
  },
  {
   "cell_type": "markdown",
   "metadata": {
    "id": "ZgzDVRqCQ72Q"
   },
   "source": [
    "## [2.5]"
   ]
  },
  {
   "cell_type": "code",
   "execution_count": null,
   "metadata": {
    "id": "3WFp0g3DQ72V"
   },
   "outputs": [],
   "source": []
  },
  {
   "cell_type": "markdown",
   "metadata": {
    "id": "k-XoxEuZumNP"
   },
   "source": [
    "## [2.6]"
   ]
  },
  {
   "cell_type": "code",
   "execution_count": null,
   "metadata": {
    "id": "aqrU9IWhupgG"
   },
   "outputs": [],
   "source": []
  },
  {
   "cell_type": "markdown",
   "metadata": {
    "id": "mgvjgPIxuqXI"
   },
   "source": [
    "## [2.7]"
   ]
  },
  {
   "cell_type": "code",
   "execution_count": null,
   "metadata": {
    "id": "JmoYTIAFutAR"
   },
   "outputs": [],
   "source": []
  },
  {
   "cell_type": "markdown",
   "metadata": {
    "id": "oFmJ2HWqRNZa"
   },
   "source": [
    "# مهمة 03 : تنظيف وتوحيد النص\n",
    "\n",
    "normalization and cleaning Text"
   ]
  },
  {
   "cell_type": "markdown",
   "metadata": {
    "id": "cwaCNfS9RNZc"
   },
   "source": [
    "## [3.1]\n"
   ]
  },
  {
   "cell_type": "code",
   "execution_count": null,
   "metadata": {
    "id": "LhllhojDRNZd"
   },
   "outputs": [],
   "source": []
  },
  {
   "cell_type": "markdown",
   "metadata": {
    "id": "MbJeF_CxRNZd"
   },
   "source": [
    "## [3.2]"
   ]
  },
  {
   "cell_type": "code",
   "execution_count": null,
   "metadata": {
    "id": "M_bO-W2DRNZe"
   },
   "outputs": [],
   "source": []
  },
  {
   "cell_type": "markdown",
   "metadata": {
    "id": "GY-HhD2YRNZe"
   },
   "source": [
    "## [3.3]"
   ]
  },
  {
   "cell_type": "code",
   "execution_count": null,
   "metadata": {
    "id": "l-5TSuHWRNZe"
   },
   "outputs": [],
   "source": []
  },
  {
   "cell_type": "markdown",
   "metadata": {
    "id": "KV9D86kbRNZe"
   },
   "source": [
    "## [3.4]"
   ]
  },
  {
   "cell_type": "code",
   "execution_count": null,
   "metadata": {
    "id": "AbnvizuQ1txm"
   },
   "outputs": [],
   "source": []
  },
  {
   "cell_type": "markdown",
   "metadata": {
    "id": "Jp-C0ZwrS8AY"
   },
   "source": [
    "# مهمة 04  : بناء النموذج المرجعي\n",
    "\n",
    "Model Baseline"
   ]
  },
  {
   "cell_type": "markdown",
   "metadata": {
    "id": "pwtVy8DES8AZ"
   },
   "source": [
    "## [4.1]\n"
   ]
  },
  {
   "cell_type": "code",
   "execution_count": null,
   "metadata": {
    "id": "fr9DTvvQ1tyt"
   },
   "outputs": [],
   "source": []
  },
  {
   "cell_type": "markdown",
   "metadata": {
    "id": "npObP2JLUBgw"
   },
   "source": [
    "## [4.2]"
   ]
  },
  {
   "cell_type": "code",
   "execution_count": null,
   "metadata": {
    "id": "V_KxmQdgUBg5"
   },
   "outputs": [],
   "source": []
  },
  {
   "cell_type": "markdown",
   "metadata": {
    "id": "pTIrTECWUBg5"
   },
   "source": [
    "## [4.3]"
   ]
  },
  {
   "cell_type": "code",
   "execution_count": null,
   "metadata": {
    "id": "OqmCKe5lUBg6"
   },
   "outputs": [],
   "source": []
  },
  {
   "cell_type": "markdown",
   "metadata": {
    "id": "6v0njm5qUBg6"
   },
   "source": [
    "## [4.4]"
   ]
  },
  {
   "cell_type": "code",
   "execution_count": null,
   "metadata": {
    "id": "DltX5hcnUHT1"
   },
   "outputs": [],
   "source": []
  },
  {
   "cell_type": "markdown",
   "metadata": {
    "id": "I8DcdwLUvaCc"
   },
   "source": [
    "## [4.5]"
   ]
  },
  {
   "cell_type": "code",
   "execution_count": null,
   "metadata": {
    "id": "tasleVJ4vdWb"
   },
   "outputs": [],
   "source": []
  },
  {
   "cell_type": "markdown",
   "metadata": {
    "id": "6CpLPudVvd7y"
   },
   "source": [
    "## [4.6]"
   ]
  },
  {
   "cell_type": "code",
   "execution_count": null,
   "metadata": {
    "id": "AF_8KYkvvhSB"
   },
   "outputs": [],
   "source": []
  },
  {
   "cell_type": "markdown",
   "metadata": {
    "id": "GYDQvpdX1ty1"
   },
   "source": [
    "# مهمة 05 : التدريب باستخدام نماذج التعلم العميق\n",
    "\n",
    "Deep learning"
   ]
  },
  {
   "cell_type": "markdown",
   "metadata": {
    "id": "r1vhyHDP1ty2"
   },
   "source": [
    "The Comparison Dictionary example"
   ]
  },
  {
   "cell_type": "code",
   "execution_count": null,
   "metadata": {
    "id": "MoozCAAZ1ty3"
   },
   "outputs": [],
   "source": [
    "comparison_table = {}\n",
    "\n",
    "comparison_table['question_step_number'] = []\n",
    "comparison_table['model_name'] = []\n",
    "comparison_table['features'] = []\n",
    "comparison_table['model_parameters'] = []\n",
    "comparison_table['preprocessing_methods'] = []\n",
    "comparison_table['accuracy'] = []\n",
    "comparison_table['balance_accuracy'] = []"
   ]
  },
  {
   "cell_type": "markdown",
   "metadata": {
    "id": "w56uRlY51ty5"
   },
   "source": [
    "Filling the dictionary example"
   ]
  },
  {
   "cell_type": "code",
   "execution_count": null,
   "metadata": {
    "id": "6SsdHNCb1ty6"
   },
   "outputs": [],
   "source": [
    "comparison_table['question_step_number'].append(\"3.5\")\n",
    "comparison_table['model_name'].append('logistic_regression')\n",
    "comparison_table['features'].append('bag of words')\n",
    "comparison_table['model_parameters'].append('default')\n",
    "comparison_table['preprocessing_methods'].append(\"remove links\")\n",
    "comparison_table['accuracy'].append(accuracy)\n",
    "comparison_table['balance_accuracy'].append(balance_accuracy_value)"
   ]
  },
  {
   "cell_type": "markdown",
   "metadata": {
    "id": "oPI-rzcR1ty8"
   },
   "source": [
    "## [5.1]"
   ]
  },
  {
   "cell_type": "code",
   "execution_count": null,
   "metadata": {
    "id": "e35V2qPp1ty-"
   },
   "outputs": [],
   "source": []
  },
  {
   "cell_type": "markdown",
   "metadata": {
    "id": "FsWTneZz1tzA"
   },
   "source": [
    "## [5.2]"
   ]
  },
  {
   "cell_type": "markdown",
   "metadata": {
    "id": "2YpU7EC2wSGf"
   },
   "source": [
    "### [5.2.1]"
   ]
  },
  {
   "cell_type": "code",
   "execution_count": null,
   "metadata": {
    "id": "MlYZ5s_Jwcuc"
   },
   "outputs": [],
   "source": []
  },
  {
   "cell_type": "markdown",
   "metadata": {
    "id": "3XTpb8jsweVq"
   },
   "source": [
    "### [5.2.2]"
   ]
  },
  {
   "cell_type": "code",
   "execution_count": null,
   "metadata": {
    "id": "k8NhWHBGwh-Z"
   },
   "outputs": [],
   "source": []
  },
  {
   "cell_type": "markdown",
   "metadata": {
    "id": "-lzdA_wYwisH"
   },
   "source": [
    "### [5.2.3]"
   ]
  },
  {
   "cell_type": "code",
   "execution_count": null,
   "metadata": {
    "id": "Kqw7TlrA1tzB"
   },
   "outputs": [],
   "source": []
  },
  {
   "cell_type": "markdown",
   "metadata": {
    "id": "dAybNjGb1tzC"
   },
   "source": [
    "## [5.3]"
   ]
  },
  {
   "cell_type": "code",
   "execution_count": null,
   "metadata": {
    "id": "_xYyAjsH1tzE"
   },
   "outputs": [],
   "source": []
  },
  {
   "cell_type": "markdown",
   "metadata": {
    "id": "dhEWd2XL1tzF"
   },
   "source": [
    "## [5.4]"
   ]
  },
  {
   "cell_type": "code",
   "execution_count": null,
   "metadata": {
    "id": "fl0Thdey1tzH"
   },
   "outputs": [],
   "source": []
  },
  {
   "cell_type": "markdown",
   "metadata": {
    "id": "Hm1ApAEU1tzI"
   },
   "source": [
    "## [5.5]"
   ]
  },
  {
   "cell_type": "code",
   "execution_count": null,
   "metadata": {
    "id": "rjmRxR_n1tzJ"
   },
   "outputs": [],
   "source": []
  },
  {
   "cell_type": "markdown",
   "metadata": {
    "id": "SjIWhs-91tzK"
   },
   "source": [
    "## [5.6]"
   ]
  },
  {
   "cell_type": "code",
   "execution_count": null,
   "metadata": {
    "id": "cqQfx3X71tzL"
   },
   "outputs": [],
   "source": []
  },
  {
   "cell_type": "markdown",
   "metadata": {
    "id": "OKsXw6ox1tzN"
   },
   "source": [
    "# مهمة 06 : التمثيل الداللي\n",
    "\n",
    "Semantic representation"
   ]
  },
  {
   "cell_type": "markdown",
   "metadata": {
    "id": "ocl-3hXm1tzO"
   },
   "source": [
    "## [6.1]"
   ]
  },
  {
   "cell_type": "code",
   "execution_count": null,
   "metadata": {
    "id": "KgywpAyb1tzP"
   },
   "outputs": [],
   "source": []
  },
  {
   "cell_type": "markdown",
   "metadata": {
    "id": "GvfnG-d11tzR"
   },
   "source": [
    "## [6.2]"
   ]
  },
  {
   "cell_type": "code",
   "execution_count": null,
   "metadata": {
    "id": "4jtXsE3V1tzT"
   },
   "outputs": [],
   "source": []
  },
  {
   "cell_type": "markdown",
   "metadata": {
    "id": "AvuOQes91t0C"
   },
   "source": [
    "# Final Results"
   ]
  },
  {
   "cell_type": "code",
   "execution_count": null,
   "metadata": {
    "id": "9hgTzDdb1t0E"
   },
   "outputs": [],
   "source": [
    "df = pd.DataFrame(comparison_table)\n",
    "df"
   ]
  },
  {
   "cell_type": "code",
   "execution_count": null,
   "metadata": {
    "id": "xel-m5951t0F"
   },
   "outputs": [],
   "source": [
    "df.to_csv(\"[your_name].csv\", index=False)"
   ]
  }
 ],
 "metadata": {
  "colab": {
   "authorship_tag": "ABX9TyNNNxPr1tgKkBfz/NLcNui7",
   "collapsed_sections": [
    "3400638b",
    "2f22713d",
    "oFmJ2HWqRNZa",
    "Jp-C0ZwrS8AY",
    "OKsXw6ox1tzN"
   ],
   "provenance": []
  },
  "kernelspec": {
   "display_name": "base",
   "language": "python",
   "name": "python3"
  },
  "language_info": {
   "codemirror_mode": {
    "name": "ipython",
    "version": 3
   },
   "file_extension": ".py",
   "mimetype": "text/x-python",
   "name": "python",
   "nbconvert_exporter": "python",
   "pygments_lexer": "ipython3",
   "version": "3.11.5"
  }
 },
 "nbformat": 4,
 "nbformat_minor": 0
}
